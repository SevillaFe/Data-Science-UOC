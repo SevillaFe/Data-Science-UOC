{
 "cells": [
  {
   "cell_type": "markdown",
   "metadata": {
    "toc": true
   },
   "source": [
    "<h1>Table of Contents<span class=\"tocSkip\"></span></h1>\n",
    "<div class=\"toc\"><ul class=\"toc-item\"><li><span><a href=\"#Libraries\" data-toc-modified-id=\"Libraries-1\"><span class=\"toc-item-num\">1&nbsp;&nbsp;</span>Libraries</a></span></li><li><span><a href=\"#Initialize-configuration\" data-toc-modified-id=\"Initialize-configuration-2\"><span class=\"toc-item-num\">2&nbsp;&nbsp;</span>Initialize configuration</a></span></li><li><span><a href=\"#Functions\" data-toc-modified-id=\"Functions-3\"><span class=\"toc-item-num\">3&nbsp;&nbsp;</span>Functions</a></span></li><li><span><a href=\"#Main\" data-toc-modified-id=\"Main-4\"><span class=\"toc-item-num\">4&nbsp;&nbsp;</span>Main</a></span></li></ul></div>"
   ]
  },
  {
   "cell_type": "markdown",
   "metadata": {},
   "source": [
    "# Libraries"
   ]
  },
  {
   "cell_type": "code",
   "execution_count": 10,
   "metadata": {},
   "outputs": [],
   "source": [
    "import pandas as pd # library for data analsysis\n",
    "import requests # library to handle requests\n",
    "from bs4 import BeautifulSoup"
   ]
  },
  {
   "cell_type": "markdown",
   "metadata": {},
   "source": [
    "# Initialize configuration"
   ]
  },
  {
   "cell_type": "code",
   "execution_count": 3,
   "metadata": {},
   "outputs": [],
   "source": [
    "# Pandas \n",
    "pd.set_option('display.max_columns', None)\n",
    "pd.set_option('display.max_rows', None)"
   ]
  },
  {
   "cell_type": "markdown",
   "metadata": {},
   "source": [
    "# Functions"
   ]
  },
  {
   "cell_type": "code",
   "execution_count": 97,
   "metadata": {},
   "outputs": [],
   "source": [
    "def run_web_scraper(url):\n",
    "    \n",
    "    # Send request\n",
    "    wurl = requests.get(url).text\n",
    "    soup = BeautifulSoup(wurl,'lxml')\n",
    "\n",
    "    # Get rows\n",
    "    table = soup.find('table').find('tbody').find_all('tr')  \n",
    "\n",
    "    # Statistics\n",
    "    rows_number = len(rows)\n",
    "    print(\"  -There are\",rows_number,\"rows in the table\")\n",
    "\n",
    "    columns_number = len(rows[0].find_all('td'))\n",
    "    print(\"  -There are\",columns_number,\"columns in the table\")\n",
    "\n",
    "    # get array from rows\n",
    "    data = [[item.text.strip() for item in row.find_all('td')] for row in rows]\n",
    "\n",
    "    # transform to pandas dataframe\n",
    "    header = ['Country','Total cases','New cases','total deaths','New deaths','Total recovered',\n",
    "              'Active cases','Critical cases','Cases/1M pop']\n",
    "    data_pd = pd.DataFrame(data, columns=header, )\n",
    "    \n",
    "    return data_pd"
   ]
  },
  {
   "cell_type": "code",
   "execution_count": 95,
   "metadata": {},
   "outputs": [],
   "source": [
    "def data_preparation(data):\n",
    "    \n",
    "    # Remove ','\n",
    "    data=data.replace({',': ''}, regex=True)\n",
    "    # Remove first char\n",
    "    data['New cases'] = (data['New cases'].str[1:])\n",
    "    data['New deaths'] = (data['New deaths'].str[1:])\n",
    "    # Set missing values as NaN\n",
    "    data=data.replace('','NaN')\n",
    "    # Fix variable type\n",
    "    data[['Total cases','New cases','total deaths','New deaths','Total recovered',\n",
    "          'Active cases','Critical cases','Cases/1M pop']] = data[['Total cases','New cases','total deaths','New deaths',\n",
    "                                                                   'Total recovered','Active cases','Critical cases',\n",
    "                                                                   'Cases/1M pop']].astype(float)\n",
    "    return data"
   ]
  },
  {
   "cell_type": "markdown",
   "metadata": {},
   "source": [
    "# Main"
   ]
  },
  {
   "cell_type": "code",
   "execution_count": 99,
   "metadata": {},
   "outputs": [
    {
     "name": "stdout",
     "output_type": "stream",
     "text": [
      "\n",
      "1. Web scraping\n",
      "  -There are 173 rows in the table\n",
      "  -There are 9 columns in the table\n",
      "\n",
      "2. Data preparation\n",
      "\n",
      "3. Export to csv\n"
     ]
    }
   ],
   "source": [
    "# Run web scraper\n",
    "print('\\n1. Web scraping')\n",
    "raw_data = run_web_scraper(\"https://www.worldometers.info/coronavirus/\")\n",
    "\n",
    "# Prepare data\n",
    "print('\\n2. Data preparation')\n",
    "clean_data = data_preparation(raw_data)\n",
    "\n",
    "# Export to csv\n",
    "print('\\n3. Export to csv')\n",
    "clean_data.to_csv('covid-19_global_spread.csv', index=False, na_rep=\"NaN\")\n",
    "\n",
    "# Data visualization\n",
    "print('\\n4. Visualization')\n",
    "generate_visualization(clean_data)"
   ]
  }
 ],
 "metadata": {
  "kernelspec": {
   "display_name": "Python 3",
   "language": "python",
   "name": "python3"
  },
  "language_info": {
   "codemirror_mode": {
    "name": "ipython",
    "version": 3
   },
   "file_extension": ".py",
   "mimetype": "text/x-python",
   "name": "python",
   "nbconvert_exporter": "python",
   "pygments_lexer": "ipython3",
   "version": "3.7.3"
  },
  "toc": {
   "base_numbering": 1,
   "nav_menu": {},
   "number_sections": true,
   "sideBar": true,
   "skip_h1_title": false,
   "title_cell": "Table of Contents",
   "title_sidebar": "Contents",
   "toc_cell": true,
   "toc_position": {
    "height": "calc(100% - 180px)",
    "left": "10px",
    "top": "150px",
    "width": "187px"
   },
   "toc_section_display": true,
   "toc_window_display": true
  }
 },
 "nbformat": 4,
 "nbformat_minor": 2
}
