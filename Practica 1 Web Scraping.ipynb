{
 "cells": [
  {
   "cell_type": "code",
   "execution_count": 5,
   "metadata": {},
   "outputs": [
    {
     "name": "stdout",
     "output_type": "stream",
     "text": [
      "Libraries imported.\n"
     ]
    }
   ],
   "source": [
    "import numpy as np # library to handle data in a vectorized manner\n",
    "\n",
    "import pandas as pd # library for data analsysis\n",
    "pd.set_option('display.max_columns', None)\n",
    "pd.set_option('display.max_rows', None)\n",
    "\n",
    "import json # library to handle JSON files\n",
    "\n",
    "from geopy.geocoders import Nominatim # convert an address into latitude and longitude values\n",
    "\n",
    "import requests # library to handle requests\n",
    "from pandas.io.json import json_normalize # tranform JSON file into a pandas dataframe\n",
    "\n",
    "# Matplotlib and associated plotting modules\n",
    "import matplotlib.cm as cm\n",
    "import matplotlib.colors as colors\n",
    "\n",
    "# for webscraping import Beautiful Soup \n",
    "from bs4 import BeautifulSoup\n",
    "\n",
    "import xml\n",
    "\n",
    "import folium # map rendering library\n",
    "\n",
    "print('Libraries imported.')"
   ]
  },
  {
   "cell_type": "markdown",
   "metadata": {},
   "source": [
    "# Página web: www.worldometers.info"
   ]
  },
  {
   "cell_type": "code",
   "execution_count": 6,
   "metadata": {},
   "outputs": [],
   "source": [
    "wurl = requests.get(\"https://www.worldometers.info/coronavirus/\").text\n",
    "soup = BeautifulSoup(wurl,'lxml')"
   ]
  },
  {
   "cell_type": "code",
   "execution_count": 7,
   "metadata": {
    "scrolled": true
   },
   "outputs": [
    {
     "data": {
      "text/html": [
       "<div>\n",
       "<style scoped>\n",
       "    .dataframe tbody tr th:only-of-type {\n",
       "        vertical-align: middle;\n",
       "    }\n",
       "\n",
       "    .dataframe tbody tr th {\n",
       "        vertical-align: top;\n",
       "    }\n",
       "\n",
       "    .dataframe thead th {\n",
       "        text-align: right;\n",
       "    }\n",
       "</style>\n",
       "<table border=\"1\" class=\"dataframe\">\n",
       "  <thead>\n",
       "    <tr style=\"text-align: right;\">\n",
       "      <th></th>\n",
       "      <th>País</th>\n",
       "      <th>Casos totales</th>\n",
       "      <th>Nuevos casos</th>\n",
       "      <th>Muertes totales</th>\n",
       "      <th>Nuevas muertes</th>\n",
       "      <th>Recuperados</th>\n",
       "      <th>Casos activos</th>\n",
       "      <th>Casos críticos</th>\n",
       "      <th>Casis/1M habit.</th>\n",
       "    </tr>\n",
       "  </thead>\n",
       "  <tbody>\n",
       "    <tr>\n",
       "      <td>0</td>\n",
       "      <td>China</td>\n",
       "      <td>80,894</td>\n",
       "      <td>+13</td>\n",
       "      <td>3,237</td>\n",
       "      <td>+11</td>\n",
       "      <td>69,614</td>\n",
       "      <td>8,043</td>\n",
       "      <td>2,622</td>\n",
       "      <td>56</td>\n",
       "    </tr>\n",
       "    <tr>\n",
       "      <td>1</td>\n",
       "      <td>Italy</td>\n",
       "      <td>31,506</td>\n",
       "      <td></td>\n",
       "      <td>2,503</td>\n",
       "      <td></td>\n",
       "      <td>2,941</td>\n",
       "      <td>26,062</td>\n",
       "      <td>2,060</td>\n",
       "      <td>521</td>\n",
       "    </tr>\n",
       "    <tr>\n",
       "      <td>2</td>\n",
       "      <td>Iran</td>\n",
       "      <td>16,169</td>\n",
       "      <td></td>\n",
       "      <td>988</td>\n",
       "      <td></td>\n",
       "      <td>5,389</td>\n",
       "      <td>9,792</td>\n",
       "      <td></td>\n",
       "      <td>193</td>\n",
       "    </tr>\n",
       "    <tr>\n",
       "      <td>3</td>\n",
       "      <td>Spain</td>\n",
       "      <td>11,826</td>\n",
       "      <td></td>\n",
       "      <td>533</td>\n",
       "      <td></td>\n",
       "      <td>1,028</td>\n",
       "      <td>10,265</td>\n",
       "      <td>563</td>\n",
       "      <td>253</td>\n",
       "    </tr>\n",
       "    <tr>\n",
       "      <td>4</td>\n",
       "      <td>Germany</td>\n",
       "      <td>9,367</td>\n",
       "      <td></td>\n",
       "      <td>26</td>\n",
       "      <td></td>\n",
       "      <td>67</td>\n",
       "      <td>9,274</td>\n",
       "      <td>2</td>\n",
       "      <td>112</td>\n",
       "    </tr>\n",
       "  </tbody>\n",
       "</table>\n",
       "</div>"
      ],
      "text/plain": [
       "      País Casos totales Nuevos casos Muertes totales Nuevas muertes  \\\n",
       "0    China        80,894          +13           3,237            +11   \n",
       "1    Italy        31,506                        2,503                  \n",
       "2     Iran        16,169                          988                  \n",
       "3    Spain        11,826                          533                  \n",
       "4  Germany         9,367                           26                  \n",
       "\n",
       "  Recuperados Casos activos Casos críticos Casis/1M habit.  \n",
       "0      69,614         8,043          2,622              56  \n",
       "1       2,941        26,062          2,060             521  \n",
       "2       5,389         9,792                            193  \n",
       "3       1,028        10,265            563             253  \n",
       "4          67         9,274              2             112  "
      ]
     },
     "execution_count": 7,
     "metadata": {},
     "output_type": "execute_result"
    }
   ],
   "source": [
    "table_post = soup.find('table')\n",
    "fields = table_post.find_all('td')\n",
    "\n",
    "Country_Other  = []\n",
    "Total_Cases = []\n",
    "New_Cases = []\n",
    "Total_Deaths = []\n",
    "New_Deaths = []\n",
    "Total_Recovered = []\n",
    "Active_Cases = []\n",
    "Serious_Critical = []\n",
    "Total_Cases_1M_pop = []\n",
    "\n",
    "\n",
    "\n",
    "for i in range(0, len(fields), 9):\n",
    "    Country_Other.append(fields[i].text.strip())\n",
    "    Total_Cases.append(fields[i+1].text.strip())\n",
    "    New_Cases.append(fields[i+2].text.strip())\n",
    "    Total_Deaths.append(fields[i+3].text.strip())\n",
    "    New_Deaths.append(fields[i+4].text.strip())\n",
    "    Total_Recovered.append(fields[i+5].text.strip())\n",
    "    Active_Cases.append(fields[i+6].text.strip())\n",
    "    Serious_Critical.append(fields[i+7].text.strip())\n",
    "    Total_Cases_1M_pop.append(fields[i+8].text.strip())\n",
    "    \n",
    "df = pd.DataFrame(data=[Country_Other,Total_Cases,New_Cases,\n",
    "                        Total_Deaths,New_Deaths,Total_Recovered,Active_Cases,\n",
    "                        Serious_Critical,Total_Cases_1M_pop]).transpose()\n",
    "df.columns = ['País','Casos totales','Nuevos casos','Muertes totales','Nuevas muertes','Recuperados',\n",
    "             'Casos activos','Casos críticos','Casis/1M habit.']\n",
    "df.head()"
   ]
  },
  {
   "cell_type": "code",
   "execution_count": 8,
   "metadata": {},
   "outputs": [],
   "source": [
    "df['Nuevos casos']= (df['Nuevos casos'].str[1:])\n",
    "df['Nuevas muertes']= (df['Nuevas muertes'].str[1:])\n",
    "df=df.replace({',': ''}, regex=True)"
   ]
  },
  {
   "cell_type": "code",
   "execution_count": 9,
   "metadata": {},
   "outputs": [],
   "source": [
    "df=df.replace(r'^\\s*$', 0, regex=True)\n",
    "df=df.drop(df.index[len(df)-1])"
   ]
  },
  {
   "cell_type": "code",
   "execution_count": 10,
   "metadata": {},
   "outputs": [
    {
     "data": {
      "text/html": [
       "<div>\n",
       "<style scoped>\n",
       "    .dataframe tbody tr th:only-of-type {\n",
       "        vertical-align: middle;\n",
       "    }\n",
       "\n",
       "    .dataframe tbody tr th {\n",
       "        vertical-align: top;\n",
       "    }\n",
       "\n",
       "    .dataframe thead th {\n",
       "        text-align: right;\n",
       "    }\n",
       "</style>\n",
       "<table border=\"1\" class=\"dataframe\">\n",
       "  <thead>\n",
       "    <tr style=\"text-align: right;\">\n",
       "      <th></th>\n",
       "      <th>País</th>\n",
       "      <th>Casos totales</th>\n",
       "      <th>Nuevos casos</th>\n",
       "      <th>Muertes totales</th>\n",
       "      <th>Nuevas muertes</th>\n",
       "      <th>Recuperados</th>\n",
       "      <th>Casos activos</th>\n",
       "      <th>Casos críticos</th>\n",
       "      <th>Casis/1M habit.</th>\n",
       "    </tr>\n",
       "  </thead>\n",
       "  <tbody>\n",
       "    <tr>\n",
       "      <td>0</td>\n",
       "      <td>China</td>\n",
       "      <td>80894</td>\n",
       "      <td>13</td>\n",
       "      <td>3237</td>\n",
       "      <td>11</td>\n",
       "      <td>69614</td>\n",
       "      <td>8043</td>\n",
       "      <td>2622</td>\n",
       "      <td>56</td>\n",
       "    </tr>\n",
       "    <tr>\n",
       "      <td>1</td>\n",
       "      <td>Italy</td>\n",
       "      <td>31506</td>\n",
       "      <td>0</td>\n",
       "      <td>2503</td>\n",
       "      <td>0</td>\n",
       "      <td>2941</td>\n",
       "      <td>26062</td>\n",
       "      <td>2060</td>\n",
       "      <td>521</td>\n",
       "    </tr>\n",
       "    <tr>\n",
       "      <td>2</td>\n",
       "      <td>Iran</td>\n",
       "      <td>16169</td>\n",
       "      <td>0</td>\n",
       "      <td>988</td>\n",
       "      <td>0</td>\n",
       "      <td>5389</td>\n",
       "      <td>9792</td>\n",
       "      <td>0</td>\n",
       "      <td>193</td>\n",
       "    </tr>\n",
       "    <tr>\n",
       "      <td>3</td>\n",
       "      <td>Spain</td>\n",
       "      <td>11826</td>\n",
       "      <td>0</td>\n",
       "      <td>533</td>\n",
       "      <td>0</td>\n",
       "      <td>1028</td>\n",
       "      <td>10265</td>\n",
       "      <td>563</td>\n",
       "      <td>253</td>\n",
       "    </tr>\n",
       "    <tr>\n",
       "      <td>4</td>\n",
       "      <td>Germany</td>\n",
       "      <td>9367</td>\n",
       "      <td>0</td>\n",
       "      <td>26</td>\n",
       "      <td>0</td>\n",
       "      <td>67</td>\n",
       "      <td>9274</td>\n",
       "      <td>2</td>\n",
       "      <td>112</td>\n",
       "    </tr>\n",
       "  </tbody>\n",
       "</table>\n",
       "</div>"
      ],
      "text/plain": [
       "      País Casos totales Nuevos casos Muertes totales Nuevas muertes  \\\n",
       "0    China         80894           13            3237             11   \n",
       "1    Italy         31506            0            2503              0   \n",
       "2     Iran         16169            0             988              0   \n",
       "3    Spain         11826            0             533              0   \n",
       "4  Germany          9367            0              26              0   \n",
       "\n",
       "  Recuperados Casos activos Casos críticos Casis/1M habit.  \n",
       "0       69614          8043           2622              56  \n",
       "1        2941         26062           2060             521  \n",
       "2        5389          9792              0             193  \n",
       "3        1028         10265            563             253  \n",
       "4          67          9274              2             112  "
      ]
     },
     "execution_count": 10,
     "metadata": {},
     "output_type": "execute_result"
    }
   ],
   "source": [
    "df.head()"
   ]
  },
  {
   "cell_type": "code",
   "execution_count": 11,
   "metadata": {
    "scrolled": true
   },
   "outputs": [],
   "source": [
    "df[['Casos totales','Nuevos casos',\n",
    "     'Muertes totales','Nuevas muertes','Recuperados',\n",
    "     'Casos activos','Casos críticos']]= df[['Casos totales','Nuevos casos',\n",
    "     'Muertes totales','Nuevas muertes','Recuperados',\n",
    "     'Casos activos','Casos críticos']].astype(int)\n",
    "df['Casis/1M habit.']=df['Casis/1M habit.'].astype(float)"
   ]
  },
  {
   "cell_type": "code",
   "execution_count": 12,
   "metadata": {},
   "outputs": [
    {
     "data": {
      "text/plain": [
       "País                object\n",
       "Casos totales        int64\n",
       "Nuevos casos         int64\n",
       "Muertes totales      int64\n",
       "Nuevas muertes       int64\n",
       "Recuperados          int64\n",
       "Casos activos        int64\n",
       "Casos críticos       int64\n",
       "Casis/1M habit.    float64\n",
       "dtype: object"
      ]
     },
     "execution_count": 12,
     "metadata": {},
     "output_type": "execute_result"
    }
   ],
   "source": [
    "df.dtypes"
   ]
  },
  {
   "cell_type": "code",
   "execution_count": 16,
   "metadata": {},
   "outputs": [],
   "source": [
    "df.to_csv(r'/Users/fernandosevilla/Documents/GitHub/Data-Science-UOC/FS_AQ_Scraping_Practica_1.csv',index=False)"
   ]
  },
  {
   "cell_type": "code",
   "execution_count": null,
   "metadata": {},
   "outputs": [],
   "source": []
  }
 ],
 "metadata": {
  "kernelspec": {
   "display_name": "Python 3",
   "language": "python",
   "name": "python3"
  },
  "language_info": {
   "codemirror_mode": {
    "name": "ipython",
    "version": 3
   },
   "file_extension": ".py",
   "mimetype": "text/x-python",
   "name": "python",
   "nbconvert_exporter": "python",
   "pygments_lexer": "ipython3",
   "version": "3.7.4"
  }
 },
 "nbformat": 4,
 "nbformat_minor": 2
}
